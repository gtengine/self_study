{
 "cells": [
  {
   "cell_type": "code",
   "execution_count": 1,
   "metadata": {},
   "outputs": [
    {
     "name": "stdout",
     "output_type": "stream",
     "text": [
      "[PhysicalDevice(name='/physical_device:GPU:0', device_type='GPU')]\n"
     ]
    }
   ],
   "source": [
    "import tensorflow as tf\n",
    "from tensorflow.python.keras.layers import Dense, Flatten, Conv2D\n",
    "from tensorflow.python.keras import Model\n",
    "\n",
    "physical_devices = tf.config.list_physical_devices('GPU')\n",
    "print(physical_devices)\n",
    "try:\n",
    "    tf.config.experimental.set_memory_growth(physical_devices[0], True)\n",
    "except:\n",
    "    pass"
   ]
  },
  {
   "cell_type": "code",
   "execution_count": 2,
   "metadata": {},
   "outputs": [
    {
     "name": "stdout",
     "output_type": "stream",
     "text": [
      "(60000, 28, 28)\n",
      "(60000,)\n",
      "(10000, 28, 28)\n",
      "(10000,)\n"
     ]
    }
   ],
   "source": [
    "mnist = tf.keras.datasets.mnist\n",
    "\n",
    "(x_train, y_train), (x_test, y_test) = mnist.load_data()\n",
    "x_train, x_test = x_train / 255. , x_test / 255.\n",
    "\n",
    "print(x_train.shape)\n",
    "print(y_train.shape)\n",
    "print(x_test.shape)\n",
    "print(y_test.shape)"
   ]
  },
  {
   "cell_type": "code",
   "execution_count": 3,
   "metadata": {},
   "outputs": [
    {
     "name": "stdout",
     "output_type": "stream",
     "text": [
      "(60000, 28, 28, 1)\n",
      "(10000, 28, 28, 1)\n"
     ]
    }
   ],
   "source": [
    "# 채널 차원 추가\n",
    "x_train = x_train[..., tf.newaxis].astype('float32') # ... : Ellipsis 객체 (생략 부호)\n",
    "x_test = x_test[..., tf.newaxis].astype('float32')\n",
    "\n",
    "print(x_train.shape)\n",
    "print(x_test.shape)"
   ]
  },
  {
   "cell_type": "markdown",
   "metadata": {},
   "source": [
    "- `tf.data`를 사용하여 'batch' 처리 및 shuffle"
   ]
  },
  {
   "cell_type": "code",
   "execution_count": 4,
   "metadata": {},
   "outputs": [],
   "source": [
    "train_ds = tf.data.Dataset.from_tensor_slices((x_train, y_train)).shuffle(len(x_train)).batch(32)\n",
    "test_ds = tf.data.Dataset.from_tensor_slices((x_test, y_test)).shuffle(len(x_test)).batch(32)"
   ]
  },
  {
   "cell_type": "markdown",
   "metadata": {},
   "source": [
    "- 'model sub-classing'을 사용하여 keras 모델 빌드"
   ]
  },
  {
   "cell_type": "code",
   "execution_count": 5,
   "metadata": {},
   "outputs": [],
   "source": [
    "class MyModel(Model):\n",
    "    def __init__(self):\n",
    "        super(MyModel, self).__init__()\n",
    "        self.conv1 = Conv2D(32, 3, activation='relu')\n",
    "        self.flatten = Flatten()\n",
    "        self.d1 = Dense(128, activation='relu')\n",
    "        self.d2 = Dense(10)\n",
    "        \n",
    "    def call(self, x):\n",
    "        x = self.conv1(x)\n",
    "        x = self.flatten(x)\n",
    "        x = self.d1(x)\n",
    "        x = self.d2(x)\n",
    "        return x"
   ]
  },
  {
   "cell_type": "code",
   "execution_count": 6,
   "metadata": {},
   "outputs": [],
   "source": [
    "model = MyModel()"
   ]
  },
  {
   "cell_type": "markdown",
   "metadata": {},
   "source": [
    "- 'loss function' 과 'optimizer' 정의"
   ]
  },
  {
   "cell_type": "code",
   "execution_count": 7,
   "metadata": {},
   "outputs": [],
   "source": [
    "loss_object = tf.keras.losses.SparseCategoricalCrossentropy(from_logits=True)\n",
    "optimizer = tf.keras.optimizers.Adam()"
   ]
  },
  {
   "cell_type": "markdown",
   "metadata": {},
   "source": [
    "- 모델의 'accuracy' 와 'loss'를 측정하기 위한 'metrics' 정의.\n",
    "- 이 'metrics'는 epoch에 걸쳐 값을 누적하고 나서 전체 결과를 출력한다."
   ]
  },
  {
   "cell_type": "code",
   "execution_count": 8,
   "metadata": {},
   "outputs": [],
   "source": [
    "train_loss = tf.keras.metrics.Mean(name='train_loss')\n",
    "train_accuracy = tf.keras.metrics.SparseCategoricalAccuracy(name='train_accuracy')\n",
    "\n",
    "test_loss = tf.keras.metrics.Mean(name='test_loss')\n",
    "test_accuracy = tf.keras.metrics.SparseCategoricalAccuracy(name='test_accuracy')"
   ]
  },
  {
   "cell_type": "markdown",
   "metadata": {},
   "source": [
    "- `tf.GradientTape`을 사용하여 모델 학습"
   ]
  },
  {
   "cell_type": "code",
   "execution_count": 9,
   "metadata": {},
   "outputs": [],
   "source": [
    "@tf.function\n",
    "def train_step(images, labels):\n",
    "    with tf.GradientTape() as tape:\n",
    "        predictions = model(images, training=True)\n",
    "        loss = loss_object(labels, predictions)\n",
    "        \n",
    "    gradients = tape.gradient(loss, model.trainable_variables)\n",
    "    optimizer.apply_gradients(zip(gradients, model.trainable_variables))\n",
    "    \n",
    "    train_loss(loss)\n",
    "    train_accuracy(labels, predictions)"
   ]
  },
  {
   "cell_type": "code",
   "execution_count": 10,
   "metadata": {},
   "outputs": [],
   "source": [
    "@tf.function\n",
    "def test_step(images, labels):\n",
    "    predictions = model(images, training=False)\n",
    "    t_loss = loss_object(labels, predictions)\n",
    "    \n",
    "    test_loss(t_loss)\n",
    "    test_accuracy(labels, predictions)"
   ]
  },
  {
   "cell_type": "code",
   "execution_count": 11,
   "metadata": {},
   "outputs": [
    {
     "name": "stdout",
     "output_type": "stream",
     "text": [
      "Epoch 1,  Loss: 0.13389046490192413,  Accuracy: 95.97833251953125,  Test Loss: 0.06536329537630081,  Test Accuracy: 97.86000061035156\n",
      "Epoch 2,  Loss: 0.041421495378017426,  Accuracy: 98.72833251953125,  Test Loss: 0.052074942737817764,  Test Accuracy: 98.2699966430664\n",
      "Epoch 3,  Loss: 0.022947918623685837,  Accuracy: 99.2699966430664,  Test Loss: 0.054011646658182144,  Test Accuracy: 98.38999938964844\n",
      "Epoch 4,  Loss: 0.014135980047285557,  Accuracy: 99.54666137695312,  Test Loss: 0.05373052880167961,  Test Accuracy: 98.43999481201172\n",
      "Epoch 5,  Loss: 0.008769259788095951,  Accuracy: 99.74666595458984,  Test Loss: 0.06321606785058975,  Test Accuracy: 98.27999877929688\n",
      "Epoch 6,  Loss: 0.007814153097569942,  Accuracy: 99.73833465576172,  Test Loss: 0.07622847706079483,  Test Accuracy: 98.29000091552734\n",
      "Epoch 7,  Loss: 0.006007640156894922,  Accuracy: 99.788330078125,  Test Loss: 0.07368568331003189,  Test Accuracy: 98.31999969482422\n",
      "Epoch 8,  Loss: 0.004545972216874361,  Accuracy: 99.8566665649414,  Test Loss: 0.0855356752872467,  Test Accuracy: 98.27999877929688\n",
      "Epoch 9,  Loss: 0.004435844719409943,  Accuracy: 99.8616714477539,  Test Loss: 0.07961487770080566,  Test Accuracy: 98.47999572753906\n",
      "Epoch 10,  Loss: 0.0015032137744128704,  Accuracy: 99.95999908447266,  Test Loss: 0.10222918540239334,  Test Accuracy: 98.36000061035156\n"
     ]
    }
   ],
   "source": [
    "EPOCHS = 10\n",
    "\n",
    "for epoch in range(EPOCHS):\n",
    "    train_loss.reset_state() # 새 반복이 될 때마다 metrics 리셋. 굉장히 중요!\n",
    "    train_accuracy.reset_state()\n",
    "    test_loss.reset_state()\n",
    "    test_accuracy.reset_state()\n",
    "    \n",
    "    for images, labels in train_ds:\n",
    "        train_step(images, labels)\n",
    "        \n",
    "    for test_images, test_labels in test_ds:\n",
    "        test_step(test_images, test_labels)\n",
    "        \n",
    "    print(\n",
    "        f'Epoch {epoch + 1}, ',\n",
    "        f'Loss: {train_loss.result()}, ',\n",
    "        f'Accuracy: {train_accuracy.result() * 100}, ',\n",
    "        f'Test Loss: {test_loss.result()}, ',\n",
    "        f'Test Accuracy: {test_accuracy.result() * 100}'\n",
    "    )"
   ]
  }
 ],
 "metadata": {
  "kernelspec": {
   "display_name": "Python 3.9.12 ('gpu')",
   "language": "python",
   "name": "python3"
  },
  "language_info": {
   "codemirror_mode": {
    "name": "ipython",
    "version": 3
   },
   "file_extension": ".py",
   "mimetype": "text/x-python",
   "name": "python",
   "nbconvert_exporter": "python",
   "pygments_lexer": "ipython3",
   "version": "3.9.12"
  },
  "orig_nbformat": 4,
  "vscode": {
   "interpreter": {
    "hash": "12fc454dd157f24b2200d9556262df19b2143ca898258cb04f885b2c2681ebac"
   }
  }
 },
 "nbformat": 4,
 "nbformat_minor": 2
}

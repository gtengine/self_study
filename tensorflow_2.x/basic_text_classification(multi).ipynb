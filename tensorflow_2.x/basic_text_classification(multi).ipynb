{
 "cells": [
  {
   "cell_type": "code",
   "execution_count": 1,
   "metadata": {},
   "outputs": [
    {
     "name": "stdout",
     "output_type": "stream",
     "text": [
      "[PhysicalDevice(name='/physical_device:GPU:0', device_type='GPU')]\n"
     ]
    }
   ],
   "source": [
    "import os\n",
    "import re\n",
    "import string\n",
    "\n",
    "import tensorflow as tf\n",
    "\n",
    "import matplotlib.pyplot as plt\n",
    "\n",
    "devices = tf.config.list_physical_devices('GPU')\n",
    "print(devices)\n",
    "try:\n",
    "    tf.config.experimental.set_memory_growth(devices[0], True)\n",
    "except:\n",
    "    pass"
   ]
  },
  {
   "cell_type": "markdown",
   "metadata": {},
   "source": [
    "## Multi-class text classification analysis"
   ]
  },
  {
   "cell_type": "markdown",
   "metadata": {},
   "source": [
    "### Dataset"
   ]
  },
  {
   "cell_type": "code",
   "execution_count": 2,
   "metadata": {},
   "outputs": [
    {
     "data": {
      "text/plain": [
       "['README.md', 'train', 'test']"
      ]
     },
     "execution_count": 2,
     "metadata": {},
     "output_type": "execute_result"
    }
   ],
   "source": [
    "dataset_dir = 'D:\\\\dataset\\\\stack_overflow_16k'\n",
    "os.listdir(dataset_dir)"
   ]
  },
  {
   "cell_type": "code",
   "execution_count": 3,
   "metadata": {},
   "outputs": [
    {
     "name": "stdout",
     "output_type": "stream",
     "text": [
      "['python', 'java', 'csharp', 'javascript']\n",
      "['python', 'java', 'csharp', 'javascript']\n"
     ]
    }
   ],
   "source": [
    "train_dir = os.path.join(dataset_dir, 'train')\n",
    "test_dir = os.path.join(dataset_dir, 'test')\n",
    "\n",
    "print(os.listdir(train_dir))\n",
    "print(os.listdir(test_dir))"
   ]
  },
  {
   "cell_type": "code",
   "execution_count": 4,
   "metadata": {},
   "outputs": [
    {
     "name": "stdout",
     "output_type": "stream",
     "text": [
      "\"is it legal to define two methods with the same name but different returning types? i've written a piece of code to determine a typical palindrome string. i did this by the definition of a reverse() method returning a string. i also eager to have the same method, but in the void form, because of some future needs..as i add the latter to the code, the valid output will become invalid..so, the question is that is it legal to define two methods with the same name but different returning types?.if not, please let me know how to write this code with the void-type method...class detector(object):.    def __init__(self,string):.        self.string = string..    forbidden = (' ','!','?','.','-','_','&amp;','%',\"\"#\"\",\"\",\"\")..    def eliminator(self):.        for item in self.forbidden:.            if item in self.string:.                self.string = self.string.replace(item,\"\"\"\")..    def reverse(self):.        return self.string[::-1]            ..    #def reverse(self):.    #    self.string = self.string[::-1]    i am prone to add this method..    def check(self):.        reversed = self.reverse().        if self.string == reversed:.            print(\"\"yes\"\").        else:.            print(\"\"no\"\")..det = detector(\"\"rise to vote, sir!\"\").det.eliminator().det.check()...when i add the commented lines, the valid \"\"yes\"\" becomes \"\"no\"\"!\"\n",
      "\n"
     ]
    }
   ],
   "source": [
    "sample = os.path.join(train_dir, 'python', '0.txt')\n",
    "with open(sample) as f:\n",
    "    print(f.read())"
   ]
  },
  {
   "cell_type": "code",
   "execution_count": 5,
   "metadata": {},
   "outputs": [
    {
     "name": "stdout",
     "output_type": "stream",
     "text": [
      "Found 8000 files belonging to 4 classes.\n",
      "Using 6400 files for training.\n"
     ]
    }
   ],
   "source": [
    "batch_size = 32\n",
    "seed = 111\n",
    "\n",
    "raw_train_ds = tf.keras.utils.text_dataset_from_directory(\n",
    "    train_dir,\n",
    "    batch_size=batch_size,\n",
    "    validation_split=0.2,\n",
    "    subset='training',\n",
    "    seed=seed\n",
    ")"
   ]
  },
  {
   "cell_type": "code",
   "execution_count": 6,
   "metadata": {},
   "outputs": [
    {
     "name": "stdout",
     "output_type": "stream",
     "text": [
      "Text:  b'\"comparing 2 int arrays can anyone tell me whats wrong in this method and why it gives a nullpointerexception ?..public boolean check(){..    scanner scan = new scanner(system.in);..    int[] arr1 = new int []{1,2,3};.    int[] arr2 = new int[]{};..    for(int i = 0;i&lt;arr1.length;i++).    {.        system.out.println(\"\"enter numbers to check\"\");.        arr2[i] = scan.nextint();.    }..    if(arr1 == arr2).        return true;..    return false;.}\"\\n'\n",
      "Label:  1\n",
      "no\n",
      "Text:  b'\"for-loop setting length variable when converting from nodelist phew! that was a long title...i\\'m reading wrox\\' book on professional blank for web developers and i came across this sample code, and i was just wondering if that was best practice:..function converttoarray(nodes) {.   array = new array();.   for (var i=0, len=nodes.length; i &lt; len; i++) {.      array.push(nodes[i]);.   }.   return array;.}...the thing that\\'s got me scratching my head is the \"\"len=nodes.length\"\". am i wrong in thinking that the first sentence in a for-loop is only run once? is there a reason you\\'d want to set a variable (len) to the length of the nodelist before running through it? would you do that to a normal array as well?..thanks\"\\n'\n",
      "Label:  2\n",
      "no\n",
      "Text:  b'blank list boxes padding in windows forms i am making a small point of sale app. i want to add space between product name and price. i uses pad right(45) after product name. problem is that if product name is bigger then prices not align in same line..please help me.\\n'\n",
      "Label:  0\n",
      "no\n"
     ]
    }
   ],
   "source": [
    "for text_batch, label_batch in raw_train_ds.take(1):\n",
    "    for i in range(3):\n",
    "        print(\"Text: \", text_batch.numpy()[i])\n",
    "        print(\"Label: \", label_batch.numpy()[i])\n",
    "        if '<br />' in text_batch:\n",
    "            print('yes')\n",
    "        else:\n",
    "            print('no')"
   ]
  },
  {
   "cell_type": "code",
   "execution_count": 7,
   "metadata": {},
   "outputs": [
    {
     "name": "stdout",
     "output_type": "stream",
     "text": [
      "Label 0:  csharp\n",
      "Label 1:  java\n",
      "Label 2:  javascript\n",
      "Label 3:  python\n"
     ]
    }
   ],
   "source": [
    "print('Label 0: ', raw_train_ds.class_names[0])\n",
    "print('Label 1: ', raw_train_ds.class_names[1])\n",
    "print('Label 2: ', raw_train_ds.class_names[2])\n",
    "print('Label 3: ', raw_train_ds.class_names[3])"
   ]
  },
  {
   "cell_type": "code",
   "execution_count": 8,
   "metadata": {},
   "outputs": [
    {
     "name": "stdout",
     "output_type": "stream",
     "text": [
      "Found 8000 files belonging to 4 classes.\n",
      "Using 1600 files for validation.\n"
     ]
    }
   ],
   "source": [
    "raw_validation_ds = tf.keras.utils.text_dataset_from_directory(\n",
    "    train_dir,\n",
    "    batch_size=batch_size,\n",
    "    validation_split=0.2,\n",
    "    subset='validation',\n",
    "    seed=seed\n",
    ")"
   ]
  },
  {
   "cell_type": "code",
   "execution_count": 9,
   "metadata": {},
   "outputs": [
    {
     "name": "stdout",
     "output_type": "stream",
     "text": [
      "Found 8000 files belonging to 4 classes.\n"
     ]
    }
   ],
   "source": [
    "raw_test_ds = tf.keras.utils.text_dataset_from_directory(\n",
    "    test_dir,\n",
    "    batch_size=batch_size\n",
    ")"
   ]
  },
  {
   "cell_type": "markdown",
   "metadata": {},
   "source": [
    "### Preprocessing"
   ]
  },
  {
   "cell_type": "code",
   "execution_count": 10,
   "metadata": {},
   "outputs": [],
   "source": [
    "def custom_standardization(input_data):\n",
    "    lowercase = tf.strings.lower(input_data)\n",
    "    stripped_html = tf.strings.regex_replace(lowercase, '<br />', ' ')\n",
    "    return tf.strings.regex_replace(stripped_html, '[%s]' % re.escape(string.punctuation), '')"
   ]
  },
  {
   "cell_type": "code",
   "execution_count": 11,
   "metadata": {},
   "outputs": [],
   "source": [
    "max_features = 10000\n",
    "sequence_length = 250\n",
    "\n",
    "vectorize_layer = tf.keras.layers.TextVectorization(\n",
    "    standardize=custom_standardization,\n",
    "    max_tokens=max_features,\n",
    "    output_mode='int',\n",
    "    output_sequence_length=sequence_length\n",
    ")"
   ]
  },
  {
   "cell_type": "code",
   "execution_count": 12,
   "metadata": {},
   "outputs": [],
   "source": [
    "train_text = raw_train_ds.map(lambda x, y: x)\n",
    "vectorize_layer.adapt(train_text)"
   ]
  },
  {
   "cell_type": "code",
   "execution_count": 13,
   "metadata": {},
   "outputs": [],
   "source": [
    "def vectorize_text(text, label):\n",
    "    text = tf.expand_dims(text, -1)\n",
    "    return vectorize_layer(text), label"
   ]
  },
  {
   "cell_type": "code",
   "execution_count": 14,
   "metadata": {},
   "outputs": [
    {
     "name": "stdout",
     "output_type": "stream",
     "text": [
      "Vectorized:  (<tf.Tensor: shape=(1, 250), dtype=int64, numpy=\n",
      "array([[  16,   52,  321,  114,    2,  123,   30,  119,   21,  148,    2,\n",
      "          27,   52,  321,    6,   13,    5, 1769,   44,    1,  195,   52,\n",
      "         195,   39,  761,   19,   52,    1,    1,   41,  108,   27,   87,\n",
      "          19,   52,   42,  153,   43,   88,    1,    3,  129,   17,    5,\n",
      "         846,  209,  171,   24,   13,    6,   53, 2335,    4,   74, 1183,\n",
      "           2,   52,  321,    6,  692,  236,   24,   10,    6,  236,   46,\n",
      "           1,    6,    5,  391,    1,  252,   14,   52,  321,    6,  236,\n",
      "          46,   99,  261,    6,  263,   44,    5,  391,    6, 2203,  542,\n",
      "          67,    5,  391, 1377,    2, 4075, 1178,    1,   35,  402,   12,\n",
      "          82, 1426,   38,  109,    2,  239,  119,   21, 1340,   52,  321,\n",
      "          46,  239,    6, 1178,   36,  122,  297,    8,   71,  391,   10,\n",
      "           6,  102,  269,    1,    4,   74,    8,   14,    6,  109,    3,\n",
      "         625,   10,  167,   33,    5, 1769,    0,    0,    0,    0,    0,\n",
      "           0,    0,    0,    0,    0,    0,    0,    0,    0,    0,    0,\n",
      "           0,    0,    0,    0,    0,    0,    0,    0,    0,    0,    0,\n",
      "           0,    0,    0,    0,    0,    0,    0,    0,    0,    0,    0,\n",
      "           0,    0,    0,    0,    0,    0,    0,    0,    0,    0,    0,\n",
      "           0,    0,    0,    0,    0,    0,    0,    0,    0,    0,    0,\n",
      "           0,    0,    0,    0,    0,    0,    0,    0,    0,    0,    0,\n",
      "           0,    0,    0,    0,    0,    0,    0,    0,    0,    0,    0,\n",
      "           0,    0,    0,    0,    0,    0,    0,    0,    0,    0,    0,\n",
      "           0,    0,    0,    0,    0,    0,    0,    0,    0,    0,    0,\n",
      "           0,    0,    0,    0,    0,    0,    0,    0]], dtype=int64)>, <tf.Tensor: shape=(), dtype=int32, numpy=0>)\n"
     ]
    }
   ],
   "source": [
    "text_batch, label_batch = next(iter(raw_train_ds))\n",
    "first_question, first_label = text_batch[0], label_batch[0]\n",
    "\n",
    "print('Vectorized: ', vectorize_text(first_question, first_label))"
   ]
  },
  {
   "cell_type": "code",
   "execution_count": 15,
   "metadata": {},
   "outputs": [],
   "source": [
    "train_ds = raw_train_ds.map(vectorize_text)\n",
    "validation_ds = raw_validation_ds.map(vectorize_text)\n",
    "test_ds = raw_test_ds.map(vectorize_text)"
   ]
  },
  {
   "cell_type": "code",
   "execution_count": 16,
   "metadata": {},
   "outputs": [],
   "source": [
    "autotune = tf.data.AUTOTUNE\n",
    "\n",
    "train_ds = train_ds.cache().prefetch(buffer_size=autotune)\n",
    "validation_ds = validation_ds.cache().prefetch(buffer_size=autotune)\n",
    "test_ds = test_ds.cache().prefetch(buffer_size=autotune)"
   ]
  },
  {
   "cell_type": "markdown",
   "metadata": {},
   "source": [
    "### Model"
   ]
  },
  {
   "cell_type": "code",
   "execution_count": 17,
   "metadata": {},
   "outputs": [
    {
     "name": "stdout",
     "output_type": "stream",
     "text": [
      "Model: \"sequential\"\n",
      "_________________________________________________________________\n",
      " Layer (type)                Output Shape              Param #   \n",
      "=================================================================\n",
      " embedding (Embedding)       (None, None, 16)          160016    \n",
      "                                                                 \n",
      " dropout (Dropout)           (None, None, 16)          0         \n",
      "                                                                 \n",
      " global_average_pooling1d (G  (None, 16)               0         \n",
      " lobalAveragePooling1D)                                          \n",
      "                                                                 \n",
      " dropout_1 (Dropout)         (None, 16)                0         \n",
      "                                                                 \n",
      " dense (Dense)               (None, 4)                 68        \n",
      "                                                                 \n",
      "=================================================================\n",
      "Total params: 160,084\n",
      "Trainable params: 160,084\n",
      "Non-trainable params: 0\n",
      "_________________________________________________________________\n"
     ]
    }
   ],
   "source": [
    "embedding_dim = 16\n",
    "\n",
    "model = tf.keras.Sequential([\n",
    "    tf.keras.layers.Embedding(max_features+1, embedding_dim),\n",
    "    tf.keras.layers.Dropout(0.2),\n",
    "    tf.keras.layers.GlobalAveragePooling1D(),\n",
    "    tf.keras.layers.Dropout(0.2),\n",
    "    tf.keras.layers.Dense(4)\n",
    "])\n",
    "\n",
    "model.summary()"
   ]
  },
  {
   "cell_type": "code",
   "execution_count": 18,
   "metadata": {},
   "outputs": [],
   "source": [
    "model.compile(\n",
    "    loss=tf.losses.SparseCategoricalCrossentropy(from_logits=True),\n",
    "    optimizer='adam',\n",
    "    metrics=['accuracy']\n",
    ")"
   ]
  },
  {
   "cell_type": "markdown",
   "metadata": {},
   "source": [
    "### Train"
   ]
  },
  {
   "cell_type": "code",
   "execution_count": 19,
   "metadata": {},
   "outputs": [
    {
     "name": "stdout",
     "output_type": "stream",
     "text": [
      "Epoch 1/20\n",
      "200/200 [==============================] - 4s 16ms/step - loss: 1.3791 - accuracy: 0.3452 - val_loss: 1.3714 - val_accuracy: 0.4475\n",
      "Epoch 2/20\n",
      "200/200 [==============================] - 2s 8ms/step - loss: 1.3537 - accuracy: 0.4553 - val_loss: 1.3405 - val_accuracy: 0.4769\n",
      "Epoch 3/20\n",
      "200/200 [==============================] - 2s 9ms/step - loss: 1.3084 - accuracy: 0.5211 - val_loss: 1.2896 - val_accuracy: 0.5387\n",
      "Epoch 4/20\n",
      "200/200 [==============================] - 1s 7ms/step - loss: 1.2428 - accuracy: 0.5772 - val_loss: 1.2239 - val_accuracy: 0.5794\n",
      "Epoch 5/20\n",
      "200/200 [==============================] - 1s 7ms/step - loss: 1.1635 - accuracy: 0.6225 - val_loss: 1.1528 - val_accuracy: 0.6112\n",
      "Epoch 6/20\n",
      "200/200 [==============================] - 1s 7ms/step - loss: 1.0868 - accuracy: 0.6622 - val_loss: 1.0851 - val_accuracy: 0.6556\n",
      "Epoch 7/20\n",
      "200/200 [==============================] - 1s 7ms/step - loss: 1.0135 - accuracy: 0.6989 - val_loss: 1.0235 - val_accuracy: 0.6869\n",
      "Epoch 8/20\n",
      "200/200 [==============================] - 2s 8ms/step - loss: 0.9473 - accuracy: 0.7316 - val_loss: 0.9686 - val_accuracy: 0.7075\n",
      "Epoch 9/20\n",
      "200/200 [==============================] - 2s 8ms/step - loss: 0.8868 - accuracy: 0.7528 - val_loss: 0.9212 - val_accuracy: 0.7125\n",
      "Epoch 10/20\n",
      "200/200 [==============================] - 2s 8ms/step - loss: 0.8348 - accuracy: 0.7630 - val_loss: 0.8796 - val_accuracy: 0.7200\n",
      "Epoch 11/20\n",
      "200/200 [==============================] - 1s 7ms/step - loss: 0.7869 - accuracy: 0.7794 - val_loss: 0.8431 - val_accuracy: 0.7256\n",
      "Epoch 12/20\n",
      "200/200 [==============================] - 1s 7ms/step - loss: 0.7442 - accuracy: 0.7902 - val_loss: 0.8113 - val_accuracy: 0.7375\n",
      "Epoch 13/20\n",
      "200/200 [==============================] - 1s 7ms/step - loss: 0.7098 - accuracy: 0.8025 - val_loss: 0.7830 - val_accuracy: 0.7412\n",
      "Epoch 14/20\n",
      "200/200 [==============================] - 2s 8ms/step - loss: 0.6736 - accuracy: 0.8073 - val_loss: 0.7585 - val_accuracy: 0.7456\n",
      "Epoch 15/20\n",
      "200/200 [==============================] - 2s 8ms/step - loss: 0.6431 - accuracy: 0.8147 - val_loss: 0.7373 - val_accuracy: 0.7506\n",
      "Epoch 16/20\n",
      "200/200 [==============================] - 1s 7ms/step - loss: 0.6137 - accuracy: 0.8242 - val_loss: 0.7177 - val_accuracy: 0.7563\n",
      "Epoch 17/20\n",
      "200/200 [==============================] - 1s 7ms/step - loss: 0.5896 - accuracy: 0.8331 - val_loss: 0.7003 - val_accuracy: 0.7556\n",
      "Epoch 18/20\n",
      "200/200 [==============================] - 1s 7ms/step - loss: 0.5660 - accuracy: 0.8408 - val_loss: 0.6849 - val_accuracy: 0.7625\n",
      "Epoch 19/20\n",
      "200/200 [==============================] - 1s 7ms/step - loss: 0.5437 - accuracy: 0.8436 - val_loss: 0.6712 - val_accuracy: 0.7619\n",
      "Epoch 20/20\n",
      "200/200 [==============================] - 2s 8ms/step - loss: 0.5229 - accuracy: 0.8566 - val_loss: 0.6583 - val_accuracy: 0.7663\n"
     ]
    }
   ],
   "source": [
    "EPOCHS = 20\n",
    "\n",
    "history = model.fit(\n",
    "    train_ds,\n",
    "    validation_data=validation_ds,\n",
    "    epochs=EPOCHS\n",
    ")"
   ]
  },
  {
   "cell_type": "markdown",
   "metadata": {},
   "source": [
    "### Evaluate"
   ]
  },
  {
   "cell_type": "code",
   "execution_count": 20,
   "metadata": {},
   "outputs": [
    {
     "name": "stdout",
     "output_type": "stream",
     "text": [
      "250/250 [==============================] - 13s 48ms/step - loss: 0.6460 - accuracy: 0.7756\n"
     ]
    },
    {
     "data": {
      "text/plain": [
       "[0.6460193395614624, 0.7756249904632568]"
      ]
     },
     "execution_count": 20,
     "metadata": {},
     "output_type": "execute_result"
    }
   ],
   "source": [
    "model.evaluate(test_ds)"
   ]
  },
  {
   "cell_type": "markdown",
   "metadata": {},
   "source": [
    "### Visualization"
   ]
  },
  {
   "cell_type": "code",
   "execution_count": 22,
   "metadata": {},
   "outputs": [
    {
     "data": {
      "text/plain": [
       "dict_keys(['loss', 'accuracy', 'val_loss', 'val_accuracy'])"
      ]
     },
     "execution_count": 22,
     "metadata": {},
     "output_type": "execute_result"
    }
   ],
   "source": [
    "history_dict = history.history\n",
    "history_dict.keys()"
   ]
  },
  {
   "cell_type": "code",
   "execution_count": 23,
   "metadata": {},
   "outputs": [],
   "source": [
    "acc = history_dict['accuracy']\n",
    "loss = history_dict['loss']\n",
    "val_acc = history_dict['val_accuracy']\n",
    "val_loss = history_dict['val_loss']"
   ]
  },
  {
   "cell_type": "code",
   "execution_count": 24,
   "metadata": {},
   "outputs": [
    {
     "data": {
      "image/png": "[encoded data removed]",
      "text/plain": [
       "<Figure size 432x288 with 1 Axes>"
      ]
     },
     "metadata": {
      "needs_background": "light"
     },
     "output_type": "display_data"
    }
   ],
   "source": [
    "epochs = range(1, EPOCHS + 1)\n",
    "\n",
    "plt.plot(epochs, loss, 'b--', label='Training loss')\n",
    "plt.plot(epochs, val_loss, 'r', label='Validation loss')\n",
    "plt.xlabel('Epochs')\n",
    "plt.ylabel('Loss')\n",
    "plt.title('Training and Validation Loss')\n",
    "plt.legend()\n",
    "\n",
    "plt.show()"
   ]
  },
  {
   "cell_type": "code",
   "execution_count": 25,
   "metadata": {},
   "outputs": [
    {
     "data": {
      "image/png": "[encoded data removed]",
      "text/plain": [
       "<Figure size 432x288 with 1 Axes>"
      ]
     },
     "metadata": {
      "needs_background": "light"
     },
     "output_type": "display_data"
    }
   ],
   "source": [
    "plt.plot(epochs, acc, 'b--', label='Training accuracy')\n",
    "plt.plot(epochs, val_acc, 'r', label='Validation accuracy')\n",
    "plt.xlabel('Epochs')\n",
    "plt.ylabel('Accuracy')\n",
    "plt.title('Training and Validation Accuracy')\n",
    "plt.legend()\n",
    "\n",
    "plt.show()"
   ]
  }
 ],
 "metadata": {
  "kernelspec": {
   "display_name": "Python 3.9.12 ('gpu')",
   "language": "python",
   "name": "python3"
  },
  "language_info": {
   "codemirror_mode": {
    "name": "ipython",
    "version": 3
   },
   "file_extension": ".py",
   "mimetype": "text/x-python",
   "name": "python",
   "nbconvert_exporter": "python",
   "pygments_lexer": "ipython3",
   "version": "3.9.12"
  },
  "orig_nbformat": 4,
  "vscode": {
   "interpreter": {
    "hash": "12fc454dd157f24b2200d9556262df19b2143ca898258cb04f885b2c2681ebac"
   }
  }
 },
 "nbformat": 4,
 "nbformat_minor": 2
}

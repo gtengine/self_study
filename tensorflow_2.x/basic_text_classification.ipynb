{
 "cells": [
  {
   "cell_type": "code",
   "execution_count": 10,
   "metadata": {},
   "outputs": [
    {
     "name": "stdout",
     "output_type": "stream",
     "text": [
      "[PhysicalDevice(name='/physical_device:GPU:0', device_type='GPU')]\n"
     ]
    }
   ],
   "source": [
    "import os\n",
    "import re\n",
    "import shutil\n",
    "import string\n",
    "\n",
    "import tensorflow as tf\n",
    "from keras import Model\n",
    "from keras import layers\n",
    "from keras import losses\n",
    "\n",
    "import matplotlib.pyplot as plt\n",
    "\n",
    "devices = tf.config.list_physical_devices(\"GPU\")\n",
    "print(devices)\n",
    "\n",
    "try:\n",
    "    tf.config.experimental.set_memory_growth(devices[0], True)\n",
    "except:\n",
    "    pass"
   ]
  },
  {
   "cell_type": "markdown",
   "metadata": {},
   "source": [
    "## Sentiment analysis"
   ]
  },
  {
   "cell_type": "markdown",
   "metadata": {},
   "source": [
    "### Download and explore the IMDB dataset"
   ]
  },
  {
   "cell_type": "code",
   "execution_count": 2,
   "metadata": {},
   "outputs": [
    {
     "data": {
      "text/plain": [
       "['test', 'train', 'imdbEr.txt', 'imdb.vocab', 'README']"
      ]
     },
     "execution_count": 2,
     "metadata": {},
     "output_type": "execute_result"
    }
   ],
   "source": [
    "# 최초 다운로드 코드\n",
    "# url = \"https://ai.stanford.edu/~amaas/data/sentiment/aclImdb_v1.tar.gz\"\n",
    "# dataset = tf.keras.utils.get_file(\"aclImdb_v1\", url, untar=True, cache_dir='.', cache_subdir='')\n",
    "# dataset_dir = os.path.join(os.path.dirname(dataset), 'aclImdb')\n",
    "\n",
    "# 나는 따로 데이터셋을 모아놓는 폴더가 있기 때문에 직접 경로를 지정하여 진행.\n",
    "# 없으면 아래 코드를 삭제하고, 위 코드의 주석 처리를 풀고 사용.\n",
    "dataset_dir = 'D:\\\\dataset\\\\aclImdb'\n",
    "\n",
    "os.listdir(dataset_dir)"
   ]
  },
  {
   "cell_type": "code",
   "execution_count": 3,
   "metadata": {},
   "outputs": [
    {
     "data": {
      "text/plain": [
       "['neg',\n",
       " 'pos',\n",
       " 'unsup',\n",
       " 'unsupBow.feat',\n",
       " 'labeledBow.feat',\n",
       " 'urls_neg.txt',\n",
       " 'urls_pos.txt',\n",
       " 'urls_unsup.txt']"
      ]
     },
     "execution_count": 3,
     "metadata": {},
     "output_type": "execute_result"
    }
   ],
   "source": [
    "train_dir = os.path.join(dataset_dir, 'train')\n",
    "os.listdir(train_dir)"
   ]
  },
  {
   "cell_type": "code",
   "execution_count": 5,
   "metadata": {},
   "outputs": [
    {
     "name": "stdout",
     "output_type": "stream",
     "text": [
      "Rachel Griffiths writes and directs this award winning short film. A heartwarming story about coping with grief and cherishing the memory of those we've loved and lost. Although, only 15 minutes long, Griffiths manages to capture so much emotion and truth onto film in the short space of time. Bud Tingwell gives a touching performance as Will, a widower struggling to cope with his wife's death. Will is confronted by the harsh reality of loneliness and helplessness as he proceeds to take care of Ruth's pet cow, Tulip. The film displays the grief and responsibility one feels for those they have loved and lost. Good cinematography, great direction, and superbly acted. It will bring tears to all those who have lost a loved one, and survived.\n"
     ]
    }
   ],
   "source": [
    "sample_file = os.path.join(train_dir, 'pos\\\\1181_9.txt')\n",
    "with open(sample_file) as f:\n",
    "    print(f.read())"
   ]
  },
  {
   "cell_type": "markdown",
   "metadata": {},
   "source": [
    "### Load dataset"
   ]
  },
  {
   "cell_type": "code",
   "execution_count": 8,
   "metadata": {},
   "outputs": [],
   "source": [
    "# 코드를 처음부터 새로 실행하는 경우를 위해 예외처리.\n",
    "try:\n",
    "    remove_dir = os.path.join(train_dir, 'unsup')\n",
    "    shutil.rmtree(remove_dir)\n",
    "except:\n",
    "    pass"
   ]
  },
  {
   "cell_type": "markdown",
   "metadata": {},
   "source": [
    "- `text_dataset_from_directory` 기능을 사용하여 `tf.data.Dataset`을 만듦."
   ]
  },
  {
   "cell_type": "code",
   "execution_count": 11,
   "metadata": {},
   "outputs": [
    {
     "name": "stdout",
     "output_type": "stream",
     "text": [
      "Found 25000 files belonging to 2 classes.\n",
      "Using 20000 files for training.\n"
     ]
    }
   ],
   "source": [
    "batch_size = 32\n",
    "seed = 111\n",
    "\n",
    "raw_train_ds = tf.keras.utils.text_dataset_from_directory(\n",
    "    train_dir,\n",
    "    batch_size=batch_size,\n",
    "    validation_split=0.2,\n",
    "    subset='training',\n",
    "    seed=seed\n",
    ")"
   ]
  },
  {
   "cell_type": "code",
   "execution_count": 12,
   "metadata": {},
   "outputs": [
    {
     "name": "stdout",
     "output_type": "stream",
     "text": [
      "Review:  b\"Really enjoyed this little movie. It's a moving film about struggle, sacrifice and especially the bonds of friendship between different peoples (the child actor who plays Miki is especially good). There's so many large scale impersonal films set around WW2, that this convincingly told little story is a real break from the norm, and an original one at that. I'll also add that this film is far from boring, very far!! Of course the Horses are wonderful and the scenery breathtaking. To anyone who really treats their animal as part of the family (I do), you'll find this film especially rewarding. Recommended to movie fans who look for something a little different.\"\n",
      "Label:  1\n",
      "Review:  b\"the acting itself wasn't even that bad, since it did't come to mind in the movie but whatever had this director in mind? the intended climb towards some climax completely missed the mark,..<br /><br />almost all scenes involve acting that stand so far from our own intentions and way of reacting on things that you don't really attach to any actor in the movie,..<br /><br />Empty silences,..In this case, see through cheap method of boasting your way into potential metaphorical brilliance,..which just wasn't here at all,..<br /><br />I guess I'm bitching but shit,..2 hours of my time,..\"\n",
      "Label:  0\n",
      "Review:  b\"Wow, this was a very bad movie... as read in other comments this movie has no plot, no character development, they possibly had some kind of script but it's difficult to tell based on the actual end result.<br /><br />The editing of this movie was really non-existent, it tends to jump from scene to scene without any connection or anything to assist the viewer in determining what is actually happening.<br /><br />All in all this is simply a low budget zombie flick that was not thought out at all, has bad acting, bad dialogue, bad everything.<br /><br />The only thing that saves this movie from a 1 or 2 is the gore factor, I think this must be where they spent whatever money they had to try to justify making this.<br /><br />Unless you are (like me) dedicated to finding and watching all the zombie flicks you can find, do not watch this. Period.\"\n",
      "Label:  0\n"
     ]
    }
   ],
   "source": [
    "for text_batch, label_batch in raw_train_ds.take(1):\n",
    "    for i in range(3):\n",
    "        print('Review: ', text_batch.numpy()[i])\n",
    "        print('Label: ', label_batch.numpy()[i])"
   ]
  },
  {
   "cell_type": "code",
   "execution_count": 13,
   "metadata": {},
   "outputs": [
    {
     "name": "stdout",
     "output_type": "stream",
     "text": [
      "Label 0 corresponds to neg\n",
      "Label 1 corresponds to pos\n"
     ]
    }
   ],
   "source": [
    "print('Label 0 corresponds to', raw_train_ds.class_names[0])\n",
    "print('Label 1 corresponds to', raw_train_ds.class_names[1])"
   ]
  },
  {
   "cell_type": "code",
   "execution_count": 14,
   "metadata": {},
   "outputs": [
    {
     "name": "stdout",
     "output_type": "stream",
     "text": [
      "Found 25000 files belonging to 2 classes.\n",
      "Using 5000 files for validation.\n"
     ]
    }
   ],
   "source": [
    "raw_validation_ds = tf.keras.utils.text_dataset_from_directory(\n",
    "    train_dir,\n",
    "    batch_size=batch_size,\n",
    "    validation_split=0.2,\n",
    "    subset='validation',\n",
    "    seed=seed\n",
    ")"
   ]
  },
  {
   "cell_type": "code",
   "execution_count": 25,
   "metadata": {},
   "outputs": [
    {
     "name": "stdout",
     "output_type": "stream",
     "text": [
      "Found 25000 files belonging to 2 classes.\n"
     ]
    }
   ],
   "source": [
    "raw_test_ds = tf.keras.utils.text_dataset_from_directory(\n",
    "    os.path.join(dataset_dir, 'test'),\n",
    "    batch_size=batch_size\n",
    ")"
   ]
  },
  {
   "cell_type": "markdown",
   "metadata": {},
   "source": [
    "### Prepare the dataset for training"
   ]
  },
  {
   "cell_type": "markdown",
   "metadata": {},
   "source": [
    "`tf.keras.layers.Textvectorization` 레이어를 사용하여 데이터를 표준화(Standardization), 토큰화(Tokenization), 벡터화(Vectorization) 시킴\n",
    "- 표준화 : 데이터 세트를 단순화하기 위해, 구두점이나 HTML 요소를 제거하기 위한 전처리\n",
    "- 토큰화 : 문자열을 토큰으로 분할하는 것. (예: 한 문장을 여러 개의 단어들로 쪼갬)\n",
    "- 벡터화 : 토큰을 숫자로 변화하여 신경망에 제공할 수 있도록 함.\n"
   ]
  },
  {
   "cell_type": "markdown",
   "metadata": {},
   "source": [
    "- `<br />`과 같은 HTML 태그들은 `Textvectorization` 레이어의 기본 기능으로는 제거되지 않는다. 따라서 그에 맞는 함수를 만들어 적용"
   ]
  },
  {
   "cell_type": "code",
   "execution_count": 17,
   "metadata": {},
   "outputs": [],
   "source": [
    "def custom_standardization(input_data):\n",
    "    lowercase = tf.strings.lower(input_data)\n",
    "    stripped_html = tf.strings.regex_replace(lowercase, '<br />', ' ') # regex_replace: 입력값에서 일치하는 패턴을 다시쓰기\n",
    "    return tf.strings.regex_replace(stripped_html, '[%s]' % re.escape(string.punctuation), '') # 정규식을 사용하여 특수문자 없애기"
   ]
  },
  {
   "cell_type": "code",
   "execution_count": 18,
   "metadata": {},
   "outputs": [],
   "source": [
    "max_features = 10000\n",
    "sequence_length = 250\n",
    "\n",
    "vectorize_layer = layers.TextVectorization(\n",
    "    standardize=custom_standardization, # 표준화에 직접 만든 함수 사용\n",
    "    max_tokens=max_features, # 레이어의 최대 어휘 수\n",
    "    output_mode='int', # 레이어의 출력\n",
    "    output_sequence_length=sequence_length # 'int'모드에서만 사용 가능. 시간 차원이 이 값으로 채워지거나 잘림\n",
    ")"
   ]
  },
  {
   "cell_type": "markdown",
   "metadata": {},
   "source": [
    "- `adapt`를 사용하여 적용. 학습 데이터에만 적용. 검증 데이터에 사용하면 정보가 누출됨. 중요!!"
   ]
  },
  {
   "cell_type": "code",
   "execution_count": 19,
   "metadata": {},
   "outputs": [],
   "source": [
    "train_text = raw_train_ds.map(lambda x, y: x)\n",
    "vectorize_layer.adapt(train_text)"
   ]
  },
  {
   "cell_type": "markdown",
   "metadata": {},
   "source": [
    "- 전처리 결과 확인"
   ]
  },
  {
   "cell_type": "code",
   "execution_count": 20,
   "metadata": {},
   "outputs": [],
   "source": [
    "def vectorize_text(text, label):\n",
    "    text = tf.expand_dims(text, -1)\n",
    "    return vectorize_layer(text), label"
   ]
  },
  {
   "cell_type": "code",
   "execution_count": 22,
   "metadata": {},
   "outputs": [
    {
     "name": "stdout",
     "output_type": "stream",
     "text": [
      "Review tf.Tensor(b'Solino really moved me with its deeply drawn characters. While being a simple tale of rivalry between two brothers, it was not simply about hate or jealousy. What I liked most about the movie was how I could identify with the feelings Gigi was going through especially when he had to take his mother back to her home town in Italy and miss out on attending the festival film awards ceremony his film was entered into. To see this character who struggled so hard between his artistic dream and his innate sense of duty to his mother was so frustrating. Even at the end when he makes one more attempt to reach out to his father was so brave. And as in real life, most fathers can never get past their walls to reach out to their children. I could even identify with Giancarlo, the brother, who while being the more self assured and elder brother, had so many insecurities. A really beautiful film that made me laugh and cry.', shape=(), dtype=string)\n",
      "Label pos\n",
      "Vectorized review (<tf.Tensor: shape=(1, 250), dtype=int64, numpy=\n",
      "array([[   1,   62, 1562,   69,   16,   29, 1642, 1395,  101,  134,  105,\n",
      "           4,  585,  828,    5, 7744,  196,  104,  933,    9,   13,   21,\n",
      "         317,   42,  825,   41, 6862,   48,   10,  405,   88,   42,    2,\n",
      "          17,   13,   87,   10,   97, 3471,   16,    2, 1352,    1,   13,\n",
      "         163,  140,  262,   51,   26,   67,    6,  187,   23,  467,  141,\n",
      "           6,   39,  346,  494,    8, 3278,    3,  718,   44,   20, 6781,\n",
      "           2, 1398,   19, 2071, 8923,   23,   19,   13, 5934,   76,    6,\n",
      "          64,   11,  108,   36, 9471,   37,  266,  196,   23, 1553,  935,\n",
      "           3,   23,    1,  277,    5, 4682,    6,   23,  467,   13,   37,\n",
      "        4968,   53,   31,    2,  126,   51,   26,  157,   28,   50,  569,\n",
      "           6, 2056,   44,    6,   23,  334,   13,   37, 2330,    3,   14,\n",
      "           8,  144,  119,   88, 1961,   68,  109,   74,  470,   65, 3229,\n",
      "           6, 2056,   44,    6,   65,  460,   10,   97,   53, 3471,   16,\n",
      "           1,    2,  607,   36,  134,  105,    2,   50, 1297, 6243,    3,\n",
      "        8275,  607,   67,   37,  106,    1,    4,   62,  307,   19,   12,\n",
      "          91,   69,  461,    3, 1431,    0,    0,    0,    0,    0,    0,\n",
      "           0,    0,    0,    0,    0,    0,    0,    0,    0,    0,    0,\n",
      "           0,    0,    0,    0,    0,    0,    0,    0,    0,    0,    0,\n",
      "           0,    0,    0,    0,    0,    0,    0,    0,    0,    0,    0,\n",
      "           0,    0,    0,    0,    0,    0,    0,    0,    0,    0,    0,\n",
      "           0,    0,    0,    0,    0,    0,    0,    0,    0,    0,    0,\n",
      "           0,    0,    0,    0,    0,    0,    0,    0,    0,    0,    0,\n",
      "           0,    0,    0,    0,    0,    0,    0,    0]], dtype=int64)>, <tf.Tensor: shape=(), dtype=int32, numpy=1>)\n"
     ]
    }
   ],
   "source": [
    "text_batch, label_batch = next(iter(raw_train_ds))\n",
    "\n",
    "first_review, first_label = text_batch[0], label_batch[0]\n",
    "print(\"Review\", first_review)\n",
    "print(\"Label\", raw_train_ds.class_names[first_label])\n",
    "print(\"Vectorized review\", vectorize_text(first_review, first_label))"
   ]
  },
  {
   "cell_type": "markdown",
   "metadata": {},
   "source": [
    "- 정수로 대체된 토큰들은 레이어에서 `get_vocabulary`를 호출하여 각 정수에 해당하는 토큰을 조회할 수 있다."
   ]
  },
  {
   "cell_type": "code",
   "execution_count": 24,
   "metadata": {},
   "outputs": [
    {
     "name": "stdout",
     "output_type": "stream",
     "text": [
      "62 :  really\n",
      "1562 :  moved\n",
      "69 :  me\n",
      "16 :  with\n",
      "29 :  its\n",
      "Vocabulary size: 10000\n"
     ]
    }
   ],
   "source": [
    "print('62 : ', vectorize_layer.get_vocabulary()[62])\n",
    "print('1562 : ', vectorize_layer.get_vocabulary()[1562])\n",
    "print('69 : ', vectorize_layer.get_vocabulary()[69])\n",
    "print('16 : ', vectorize_layer.get_vocabulary()[16])\n",
    "print('29 : ', vectorize_layer.get_vocabulary()[29])\n",
    "print('Vocabulary size: {}'.format(len(vectorize_layer.get_vocabulary())))"
   ]
  },
  {
   "cell_type": "code",
   "execution_count": 26,
   "metadata": {},
   "outputs": [],
   "source": [
    "train_ds = raw_train_ds.map(vectorize_text)\n",
    "validation_ds = raw_validation_ds.map(vectorize_text)\n",
    "test_ds = raw_test_ds.map(vectorize_text)"
   ]
  },
  {
   "cell_type": "markdown",
   "metadata": {},
   "source": [
    "### Configure the dataset for performance"
   ]
  },
  {
   "cell_type": "markdown",
   "metadata": {},
   "source": [
    "'I/O'가 차단되지 않도록 데이터를 로드할 때 사용하는 두 가지 중요한 메소드.\n",
    "- `cache` : 로드된 후, 데이터를 메모리에 유지. 모델이 학습하는 동안 데이터 세트 병목현상이 일어나지 않음.\n",
    "- `prefecth` : 학습하는 동안 데이터의 전처리와 모델 실행을 병렬로 진행."
   ]
  },
  {
   "cell_type": "code",
   "execution_count": 27,
   "metadata": {},
   "outputs": [],
   "source": [
    "AUTOTUNE = tf.data.AUTOTUNE\n",
    "\n",
    "train_ds = train_ds.cache().prefetch(buffer_size=AUTOTUNE)\n",
    "validation_ds = validation_ds.cache().prefetch(buffer_size=AUTOTUNE)\n",
    "test_ds = test_ds.cache().prefetch(buffer_size=AUTOTUNE)"
   ]
  },
  {
   "cell_type": "markdown",
   "metadata": {},
   "source": [
    "### Create the model"
   ]
  },
  {
   "cell_type": "code",
   "execution_count": 28,
   "metadata": {},
   "outputs": [],
   "source": [
    "embedding_dim = 16"
   ]
  },
  {
   "cell_type": "code",
   "execution_count": 29,
   "metadata": {},
   "outputs": [],
   "source": [
    "model = tf.keras.Sequential([\n",
    "    layers.Embedding(max_features + 1, embedding_dim),\n",
    "    layers.Dropout(0.2),\n",
    "    layers.GlobalAveragePooling1D(),\n",
    "    layers.Dropout(0.2),\n",
    "    layers.Dense(1)\n",
    "])"
   ]
  },
  {
   "cell_type": "code",
   "execution_count": 30,
   "metadata": {},
   "outputs": [
    {
     "name": "stdout",
     "output_type": "stream",
     "text": [
      "Model: \"sequential\"\n",
      "_________________________________________________________________\n",
      " Layer (type)                Output Shape              Param #   \n",
      "=================================================================\n",
      " embedding (Embedding)       (None, None, 16)          160016    \n",
      "                                                                 \n",
      " dropout (Dropout)           (None, None, 16)          0         \n",
      "                                                                 \n",
      " global_average_pooling1d (G  (None, 16)               0         \n",
      " lobalAveragePooling1D)                                          \n",
      "                                                                 \n",
      " dropout_1 (Dropout)         (None, 16)                0         \n",
      "                                                                 \n",
      " dense (Dense)               (None, 1)                 17        \n",
      "                                                                 \n",
      "=================================================================\n",
      "Total params: 160,033\n",
      "Trainable params: 160,033\n",
      "Non-trainable params: 0\n",
      "_________________________________________________________________\n"
     ]
    }
   ],
   "source": [
    "model.summary()"
   ]
  },
  {
   "cell_type": "markdown",
   "metadata": {},
   "source": [
    "### Loss function and optimizer"
   ]
  },
  {
   "cell_type": "code",
   "execution_count": 31,
   "metadata": {},
   "outputs": [],
   "source": [
    "model.compile(\n",
    "    loss=losses.BinaryCrossentropy(from_logits=True),\n",
    "    optimizer='adam',\n",
    "    metrics=tf.metrics.BinaryAccuracy(threshold=0.0)\n",
    "    )"
   ]
  },
  {
   "cell_type": "markdown",
   "metadata": {},
   "source": [
    "### Train the model"
   ]
  },
  {
   "cell_type": "code",
   "execution_count": 32,
   "metadata": {},
   "outputs": [
    {
     "name": "stdout",
     "output_type": "stream",
     "text": [
      "Epoch 1/10\n",
      "625/625 [==============================] - 16s 22ms/step - loss: 0.6636 - binary_accuracy: 0.6909 - val_loss: 0.6164 - val_binary_accuracy: 0.7678\n",
      "Epoch 2/10\n",
      "625/625 [==============================] - 6s 9ms/step - loss: 0.5478 - binary_accuracy: 0.7991 - val_loss: 0.5006 - val_binary_accuracy: 0.8180\n",
      "Epoch 3/10\n",
      "625/625 [==============================] - 5s 8ms/step - loss: 0.4444 - binary_accuracy: 0.8463 - val_loss: 0.4227 - val_binary_accuracy: 0.8428\n",
      "Epoch 4/10\n",
      "625/625 [==============================] - 5s 8ms/step - loss: 0.3777 - binary_accuracy: 0.8691 - val_loss: 0.3766 - val_binary_accuracy: 0.8586\n",
      "Epoch 5/10\n",
      "625/625 [==============================] - 5s 8ms/step - loss: 0.3345 - binary_accuracy: 0.8800 - val_loss: 0.3482 - val_binary_accuracy: 0.8660\n",
      "Epoch 6/10\n",
      "625/625 [==============================] - 5s 8ms/step - loss: 0.3034 - binary_accuracy: 0.8900 - val_loss: 0.3288 - val_binary_accuracy: 0.8704\n",
      "Epoch 7/10\n",
      "625/625 [==============================] - 5s 8ms/step - loss: 0.2802 - binary_accuracy: 0.8977 - val_loss: 0.3148 - val_binary_accuracy: 0.8746\n",
      "Epoch 8/10\n",
      "625/625 [==============================] - 5s 8ms/step - loss: 0.2617 - binary_accuracy: 0.9048 - val_loss: 0.3050 - val_binary_accuracy: 0.8756\n",
      "Epoch 9/10\n",
      "625/625 [==============================] - 5s 8ms/step - loss: 0.2447 - binary_accuracy: 0.9114 - val_loss: 0.2974 - val_binary_accuracy: 0.8770\n",
      "Epoch 10/10\n",
      "625/625 [==============================] - 5s 8ms/step - loss: 0.2301 - binary_accuracy: 0.9176 - val_loss: 0.2923 - val_binary_accuracy: 0.8790\n"
     ]
    }
   ],
   "source": [
    "epochs = 10\n",
    "history = model.fit(\n",
    "    train_ds,\n",
    "    validation_data=validation_ds,\n",
    "    epochs=epochs\n",
    ")"
   ]
  },
  {
   "cell_type": "markdown",
   "metadata": {},
   "source": [
    "### Evaluate the model"
   ]
  },
  {
   "cell_type": "code",
   "execution_count": 45,
   "metadata": {},
   "outputs": [
    {
     "name": "stdout",
     "output_type": "stream",
     "text": [
      "782/782 [==============================] - 34s 43ms/step - loss: 0.3148 - binary_accuracy: 0.8695\n",
      "Loss:  0.31478697061538696\n",
      "Accuracy:  0.8695200085639954\n"
     ]
    }
   ],
   "source": [
    "loss, accuracy = model.evaluate(test_ds)\n",
    "\n",
    "print('Loss: ', loss)\n",
    "print('Accuracy: ', accuracy)"
   ]
  },
  {
   "cell_type": "markdown",
   "metadata": {},
   "source": [
    "### Create a plot of accuracy and loss over time"
   ]
  },
  {
   "cell_type": "markdown",
   "metadata": {},
   "source": [
    "- `model.fit`은 학습 중 발생한 모든 것이 사전형 `history` 객체를 반환함"
   ]
  },
  {
   "cell_type": "code",
   "execution_count": 33,
   "metadata": {},
   "outputs": [
    {
     "data": {
      "text/plain": [
       "dict_keys(['loss', 'binary_accuracy', 'val_loss', 'val_binary_accuracy'])"
      ]
     },
     "execution_count": 33,
     "metadata": {},
     "output_type": "execute_result"
    }
   ],
   "source": [
    "history_dict = history.history\n",
    "history_dict.keys()"
   ]
  },
  {
   "cell_type": "code",
   "execution_count": 34,
   "metadata": {},
   "outputs": [],
   "source": [
    "acc = history_dict['binary_accuracy']\n",
    "val_acc = history_dict['val_binary_accuracy']\n",
    "loss = history_dict['loss']\n",
    "val_loss = history_dict['val_loss']\n",
    "\n",
    "epochs = range(1, len(acc) + 1)"
   ]
  },
  {
   "cell_type": "code",
   "execution_count": 44,
   "metadata": {},
   "outputs": [
    {
     "data": {
      "image/png": "[encoded data removed]",
      "text/plain": [
       "<Figure size 432x288 with 1 Axes>"
      ]
     },
     "metadata": {
      "needs_background": "light"
     },
     "output_type": "display_data"
    }
   ],
   "source": [
    "plt.plot(epochs, loss, 'b--', label='Training Loss')\n",
    "plt.plot(epochs, val_loss, 'r', label='Validation Loss')\n",
    "plt.title('Training and Validation Loss')\n",
    "plt.xlabel('Epochs')\n",
    "plt.ylabel('Loss')\n",
    "plt.legend()\n",
    "\n",
    "plt.show()"
   ]
  },
  {
   "cell_type": "code",
   "execution_count": 43,
   "metadata": {},
   "outputs": [
    {
     "data": {
      "image/png": "[encoded data removed]",
      "text/plain": [
       "<Figure size 432x288 with 1 Axes>"
      ]
     },
     "metadata": {
      "needs_background": "light"
     },
     "output_type": "display_data"
    }
   ],
   "source": [
    "plt.plot(epochs, acc, 'b--', label='Training acc')\n",
    "plt.plot(epochs, val_acc, 'r', label='Validation acc')\n",
    "plt.title('Training and Validation Accuracy')\n",
    "plt.xlabel('Epochs')\n",
    "plt.ylabel('Accuracy')\n",
    "plt.legend()\n",
    "\n",
    "plt.show()"
   ]
  },
  {
   "cell_type": "code",
   "execution_count": null,
   "metadata": {},
   "outputs": [],
   "source": []
  }
 ],
 "metadata": {
  "kernelspec": {
   "display_name": "Python 3.9.12 ('gpu')",
   "language": "python",
   "name": "python3"
  },
  "language_info": {
   "codemirror_mode": {
    "name": "ipython",
    "version": 3
   },
   "file_extension": ".py",
   "mimetype": "text/x-python",
   "name": "python",
   "nbconvert_exporter": "python",
   "pygments_lexer": "ipython3",
   "version": "3.9.12"
  },
  "orig_nbformat": 4,
  "vscode": {
   "interpreter": {
    "hash": "12fc454dd157f24b2200d9556262df19b2143ca898258cb04f885b2c2681ebac"
   }
  }
 },
 "nbformat": 4,
 "nbformat_minor": 2
}
